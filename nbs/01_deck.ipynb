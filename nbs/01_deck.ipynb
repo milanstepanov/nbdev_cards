{
 "cells": [
  {
   "cell_type": "code",
   "execution_count": null,
   "metadata": {},
   "outputs": [],
   "source": [
    "#| default_exp deck"
   ]
  },
  {
   "cell_type": "markdown",
   "metadata": {},
   "source": [
    "# deck\n",
    "\n",
    "> A deck of playing cads."
   ]
  },
  {
   "cell_type": "code",
   "execution_count": null,
   "metadata": {},
   "outputs": [],
   "source": [
    "#| export\n",
    "from nbdev_cards.card import *"
   ]
  },
  {
   "cell_type": "code",
   "execution_count": null,
   "metadata": {},
   "outputs": [],
   "source": [
    "#| hide\n",
    "from nbdev.showdoc import *"
   ]
  },
  {
   "cell_type": "code",
   "execution_count": null,
   "metadata": {},
   "outputs": [],
   "source": [
    "#| export\n",
    "\n",
    "class Deck:\n",
    "    def __init__(self):\n",
    "        self.cards = [Card(s, r) for s in range(4) for r in range(1, 14)]\n",
    "\n",
    "    def __len__(self):\n",
    "        return len(self.cards)\n",
    "    \n",
    "    def __str__(self):\n",
    "        return \";\".join(map(str, self.cards))\n",
    "    \n",
    "    def __contains__(self, card):\n",
    "        return card in self.cards\n",
    "    \n",
    "    def pop(self,\n",
    "            idx:int = -1 # The index of the card to remove, defaulting to the last one\n",
    "            ):\n",
    "        \"Remove one card from the deck\"\n",
    "        return self.cards.pop(idx)\n",
    "\n",
    "\n",
    "    __repr__ = __str__\n",
    "    "
   ]
  },
  {
   "cell_type": "markdown",
   "metadata": {},
   "source": [
    "When we initially create a deck, all of the cards will be present:"
   ]
  },
  {
   "cell_type": "code",
   "execution_count": null,
   "metadata": {},
   "outputs": [
    {
     "data": {
      "text/plain": [
       "A♠;2♠;3♠;4♠;5♠;6♠;7♠;8♠;9♠;10♠;J♠;Q♠;K♠;A♥;2♥;3♥;4♥;5♥;6♥;7♥;8♥;9♥;10♥;J♥;Q♥;K♥;A♦;2♦;3♦;4♦;5♦;6♦;7♦;8♦;9♦;10♦;J♦;Q♦;K♦;A♣;2♣;3♣;4♣;5♣;6♣;7♣;8♣;9♣;10♣;J♣;Q♣;K♣"
      ]
     },
     "execution_count": null,
     "metadata": {},
     "output_type": "execute_result"
    }
   ],
   "source": [
    "deck = Deck()\n",
    "deck"
   ]
  },
  {
   "cell_type": "code",
   "execution_count": null,
   "metadata": {},
   "outputs": [],
   "source": [
    "assert len(deck) == 52"
   ]
  },
  {
   "cell_type": "markdown",
   "metadata": {},
   "source": [
    "As a reminder, these are the suits we defined for a `Card`"
   ]
  },
  {
   "cell_type": "code",
   "execution_count": null,
   "metadata": {},
   "outputs": [
    {
     "data": {
      "text/plain": [
       "['♠', '♥', '♦', '♣']"
      ]
     },
     "execution_count": null,
     "metadata": {},
     "output_type": "execute_result"
    }
   ],
   "source": [
    "suits"
   ]
  },
  {
   "cell_type": "markdown",
   "metadata": {},
   "source": [
    "We can check if, Ace of Heart is in the deck:"
   ]
  },
  {
   "cell_type": "code",
   "execution_count": null,
   "metadata": {},
   "outputs": [
    {
     "data": {
      "text/plain": [
       "True"
      ]
     },
     "execution_count": null,
     "metadata": {},
     "output_type": "execute_result"
    }
   ],
   "source": [
    "Card(1,1) in deck"
   ]
  },
  {
   "cell_type": "markdown",
   "metadata": {},
   "source": [
    "We can remove a card from the deck:"
   ]
  },
  {
   "cell_type": "code",
   "execution_count": null,
   "metadata": {},
   "outputs": [
    {
     "data": {
      "text/markdown": [
       "---\n",
       "\n",
       "### Deck.pop\n",
       "\n",
       ">      Deck.pop (idx:int=-1)\n",
       "\n",
       "*Remove one card from the deck*\n",
       "\n",
       "|    | **Type** | **Default** | **Details** |\n",
       "| -- | -------- | ----------- | ----------- |\n",
       "| idx | int | -1 | The index of the card to remove, defaulting to the last one |"
      ],
      "text/plain": [
       "---\n",
       "\n",
       "### Deck.pop\n",
       "\n",
       ">      Deck.pop (idx:int=-1)\n",
       "\n",
       "*Remove one card from the deck*\n",
       "\n",
       "|    | **Type** | **Default** | **Details** |\n",
       "| -- | -------- | ----------- | ----------- |\n",
       "| idx | int | -1 | The index of the card to remove, defaulting to the last one |"
      ]
     },
     "metadata": {},
     "output_type": "display_data"
    }
   ],
   "source": [
    "show_doc(Deck.pop)"
   ]
  },
  {
   "cell_type": "code",
   "execution_count": null,
   "metadata": {},
   "outputs": [
    {
     "name": "stdout",
     "output_type": "stream",
     "text": [
      "K♣\n"
     ]
    }
   ],
   "source": [
    "removed_card = deck.pop()\n",
    "print(removed_card)"
   ]
  },
  {
   "cell_type": "markdown",
   "metadata": {},
   "source": [
    "Check if we really removed a card:"
   ]
  },
  {
   "cell_type": "code",
   "execution_count": null,
   "metadata": {},
   "outputs": [],
   "source": [
    "assert len(deck) == 51"
   ]
  },
  {
   "cell_type": "markdown",
   "metadata": {},
   "source": []
  }
 ],
 "metadata": {
  "kernelspec": {
   "display_name": "python3",
   "language": "python",
   "name": "python3"
  }
 },
 "nbformat": 4,
 "nbformat_minor": 4
}
